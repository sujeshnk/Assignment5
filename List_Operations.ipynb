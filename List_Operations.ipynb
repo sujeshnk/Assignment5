{
  "nbformat": 4,
  "nbformat_minor": 0,
  "metadata": {
    "colab": {
      "name": "List_Operations.ipynb",
      "provenance": []
    },
    "kernelspec": {
      "name": "python3",
      "display_name": "Python 3"
    },
    "language_info": {
      "name": "python"
    }
  },
  "cells": [
    {
      "cell_type": "code",
      "metadata": {
        "colab": {
          "base_uri": "https://localhost:8080/"
        },
        "id": "a6CNY0uieFo9",
        "outputId": "124b2dd6-bc45-4b87-9d82-52dc9a808d8d"
      },
      "source": [
        "#Replace Operation\n",
        "List1=[12,13,46,15,16]\n",
        "List1[2] = 14\n",
        "List1\n"
      ],
      "execution_count": 1,
      "outputs": [
        {
          "output_type": "execute_result",
          "data": {
            "text/plain": [
              "[12, 13, 14, 15, 16]"
            ]
          },
          "metadata": {
            "tags": []
          },
          "execution_count": 1
        }
      ]
    },
    {
      "cell_type": "code",
      "metadata": {
        "colab": {
          "base_uri": "https://localhost:8080/"
        },
        "id": "WcP5g5vbfgpn",
        "outputId": "bb7a4d77-202f-47c6-df97-7fe6396a84e1"
      },
      "source": [
        "#Insert Operation\n",
        "List1.insert(5,17)\n",
        "List1"
      ],
      "execution_count": 5,
      "outputs": [
        {
          "output_type": "execute_result",
          "data": {
            "text/plain": [
              "[12, 13, 14, 15, 17, 17, 17, 17, 16]"
            ]
          },
          "metadata": {
            "tags": []
          },
          "execution_count": 5
        }
      ]
    },
    {
      "cell_type": "code",
      "metadata": {
        "colab": {
          "base_uri": "https://localhost:8080/"
        },
        "id": "FF7AbYjygYB8",
        "outputId": "7aa3cd55-a651-46fc-d209-27a40d1d0655"
      },
      "source": [
        "#Sort Operation\n",
        "List1.sort()\n",
        "List1"
      ],
      "execution_count": 6,
      "outputs": [
        {
          "output_type": "execute_result",
          "data": {
            "text/plain": [
              "[12, 13, 14, 15, 16, 17, 17, 17, 17]"
            ]
          },
          "metadata": {
            "tags": []
          },
          "execution_count": 6
        }
      ]
    },
    {
      "cell_type": "code",
      "metadata": {
        "colab": {
          "base_uri": "https://localhost:8080/"
        },
        "id": "hl0rI4dfgrBH",
        "outputId": "67bc7a3d-d468-4b4e-af44-dda1088544c3"
      },
      "source": [
        "#Delete Operation\n",
        "del List1[5]\n",
        "List1"
      ],
      "execution_count": 11,
      "outputs": [
        {
          "output_type": "execute_result",
          "data": {
            "text/plain": [
              "[12, 13, 14, 15, 16, 17]"
            ]
          },
          "metadata": {
            "tags": []
          },
          "execution_count": 11
        }
      ]
    },
    {
      "cell_type": "code",
      "metadata": {
        "colab": {
          "base_uri": "https://localhost:8080/"
        },
        "id": "m_nc7GpPhSYb",
        "outputId": "157286e1-e6d2-45cb-c614-0e79e32f4f31"
      },
      "source": [
        "#Append Operation\n",
        "List1.append(18)\n",
        "List1"
      ],
      "execution_count": 12,
      "outputs": [
        {
          "output_type": "execute_result",
          "data": {
            "text/plain": [
              "[12, 13, 14, 15, 16, 17, 18]"
            ]
          },
          "metadata": {
            "tags": []
          },
          "execution_count": 12
        }
      ]
    },
    {
      "cell_type": "code",
      "metadata": {
        "colab": {
          "base_uri": "https://localhost:8080/"
        },
        "id": "ThTzslJJh0OL",
        "outputId": "463e64b3-f0d8-4633-af96-b215e097a93b"
      },
      "source": [
        "#Reverse Operation\n",
        "List1.reverse()\n",
        "List1"
      ],
      "execution_count": 13,
      "outputs": [
        {
          "output_type": "execute_result",
          "data": {
            "text/plain": [
              "[18, 17, 16, 15, 14, 13, 12]"
            ]
          },
          "metadata": {
            "tags": []
          },
          "execution_count": 13
        }
      ]
    }
  ]
}